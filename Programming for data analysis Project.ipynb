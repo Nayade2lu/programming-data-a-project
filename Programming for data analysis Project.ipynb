{
 "cells": [
  {
   "cell_type": "markdown",
   "metadata": {},
   "source": [
    "## Employees performance and delivered value"
   ]
  },
  {
   "cell_type": "markdown",
   "metadata": {},
   "source": [
    "#### Description of the topic"
   ]
  },
  {
   "cell_type": "markdown",
   "metadata": {},
   "source": [
    "The aim of this project is to show the variables that can affect the employee performance in an IT company and the value delivered. \n",
    "\n",
    "The data sets will be simulated based as much as possible in the real world behaviour and the variables will be studied to determine the ones that could cause more impact and to see tendences when linking them.\n",
    "\n",
    "The variables that will be analised are:\n",
    "- Time/hours in the workplace\n",
    "- Motivation\n",
    "- Velocity (measured in story points*)\n",
    "- Incidents in production\n",
    "- Defects per story point* \n",
    "- Customer satisfaction\n",
    "- Training /coferences the employee attends\n",
    "- Time to market\n",
    "- Delivered value **\n",
    "\n",
    "From the variables above, depending on the initial research, the most significant will be taken for study.\n",
    "\n",
    "In this first approach the timeframe of the mesurements will be a year."
   ]
  },
  {
   "cell_type": "code",
   "execution_count": null,
   "metadata": {},
   "outputs": [],
   "source": []
  }
 ],
 "metadata": {
  "kernelspec": {
   "display_name": "Python 3",
   "language": "python",
   "name": "python3"
  },
  "language_info": {
   "codemirror_mode": {
    "name": "ipython",
    "version": 3
   },
   "file_extension": ".py",
   "mimetype": "text/x-python",
   "name": "python",
   "nbconvert_exporter": "python",
   "pygments_lexer": "ipython3",
   "version": "3.6.6"
  }
 },
 "nbformat": 4,
 "nbformat_minor": 2
}
