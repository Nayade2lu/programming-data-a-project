{
 "cells": [
  {
   "cell_type": "markdown",
   "metadata": {},
   "source": [
    "## Employees performance and delivered value"
   ]
  },
  {
   "cell_type": "markdown",
   "metadata": {},
   "source": [
    "#### Description of the topic"
   ]
  },
  {
   "cell_type": "markdown",
   "metadata": {},
   "source": [
    "The aim of this project is to show the variables that can affect the employee performance in an IT company and the value delivered. \n",
    "\n",
    "The data sets will be simulated based as much as possible in the real world behaviour and the variables will be studied to determine the ones that could cause more impact and to see tendences when linking them.\n",
    "\n",
    "The variables that will be analised are:\n",
    "- Time/hours in the workplace\n",
    "- Employee Motivation\n",
    "- Training /coferences the employee attends\n",
    "- Salary\n",
    "- Length of employment\n",
    "- Experience in the position\n",
    "- Employee empowerment\n",
    "\n",
    "\n",
    "- Delivered value **\n",
    "- Velocity (measured in story points*)\n",
    "- Initial level of employee knowledge\n",
    "- Incidents in production\n",
    "- Defects per story point* \n",
    "- Customer satisfaction\n",
    "- Time to market\n",
    "- ROI (Return On Investment)\n",
    "\n",
    "\n",
    "From the variables above, depending on the initial research, the most significant will be taken for study.\n",
    "\n",
    "In this first approach the timeframe of the mesurements will be a year."
   ]
  },
  {
   "cell_type": "markdown",
   "metadata": {},
   "source": [
    "**What is understood as value?**\n",
    "\n",
    "Based on the context of an IT company, value will be presented as:\n",
    "\n",
    "customer satisfaction + (financial benefits - cost of the feature beeing developed)\n",
    "\n",
    "_Source: https://www.thoughtworks.com/insights/blog/how-do-you-measure-value_\n",
    "\n",
    "From the initial research value is going to be one of the main variable to analyse, eventhough at this stage, the way of measuring it or the distribution that this value can have is quite uncertain. "
   ]
  },
  {
   "cell_type": "markdown",
   "metadata": {},
   "source": [
    "**Time/hours in the workplace**\n",
    "\n",
    "From the initial research we could differentiate between time spent at the workplace and productive working hours. From a recent research just 2 hours and 53 minutes of the time spent at the workplace is productive work time.\n",
    "\n",
    "_Source: https://thriveglobal.com/stories/in-an-8-hour-day-the-average-worker-is-productive-for-this-many-hours/_\n",
    "\n",
    "\n",
    "In this project the variable will be the amount of hours spent at the workplace as it is usually the measurement taken into account by most of the traditional companies. \n",
    "\n"
   ]
  },
  {
   "cell_type": "markdown",
   "metadata": {},
   "source": [
    "**Salary**\n",
    "\n",
    "Salary or wages has been seen as one of the major components to incentivise employees performance, but is it really a main factor? What would be its data distribution? \n",
    "\n",
    "Regarding the questions above, should the data set simulate data on employees in similar positions but different companies to get the most of this project?\n",
    "\n",
    "https://www.econjournals.com/index.php/ijefi/article/download/1403/pdf\n",
    "\n"
   ]
  },
  {
   "cell_type": "markdown",
   "metadata": {},
   "source": [
    "**Motivation**"
   ]
  },
  {
   "cell_type": "code",
   "execution_count": null,
   "metadata": {},
   "outputs": [],
   "source": []
  }
 ],
 "metadata": {
  "kernelspec": {
   "display_name": "Python 3",
   "language": "python",
   "name": "python3"
  },
  "language_info": {
   "codemirror_mode": {
    "name": "ipython",
    "version": 3
   },
   "file_extension": ".py",
   "mimetype": "text/x-python",
   "name": "python",
   "nbconvert_exporter": "python",
   "pygments_lexer": "ipython3",
   "version": "3.6.6"
  }
 },
 "nbformat": 4,
 "nbformat_minor": 2
}
